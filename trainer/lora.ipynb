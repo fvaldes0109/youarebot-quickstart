{
 "cells": [
  {
   "cell_type": "code",
   "execution_count": 1,
   "id": "4df7dc6c",
   "metadata": {},
   "outputs": [
    {
     "data": {
      "text/html": [
       "<div>\n",
       "<style scoped>\n",
       "    .dataframe tbody tr th:only-of-type {\n",
       "        vertical-align: middle;\n",
       "    }\n",
       "\n",
       "    .dataframe tbody tr th {\n",
       "        vertical-align: top;\n",
       "    }\n",
       "\n",
       "    .dataframe thead th {\n",
       "        text-align: right;\n",
       "    }\n",
       "</style>\n",
       "<table border=\"1\" class=\"dataframe\">\n",
       "  <thead>\n",
       "    <tr style=\"text-align: right;\">\n",
       "      <th></th>\n",
       "      <th>chat_id</th>\n",
       "      <th>participant_index</th>\n",
       "      <th>combined_text</th>\n",
       "    </tr>\n",
       "  </thead>\n",
       "  <tbody>\n",
       "    <tr>\n",
       "      <th>0</th>\n",
       "      <td>000c0bd4f6554034ae2a050b5d8f6dea</td>\n",
       "      <td>0</td>\n",
       "      <td>че как? жопа жопа/ жопич жопич</td>\n",
       "    </tr>\n",
       "    <tr>\n",
       "      <th>1</th>\n",
       "      <td>000c0bd4f6554034ae2a050b5d8f6dea</td>\n",
       "      <td>1</td>\n",
       "      <td>Жопка жопич</td>\n",
       "    </tr>\n",
       "    <tr>\n",
       "      <th>2</th>\n",
       "      <td>009952d565384a69b5ddf1ec76608391</td>\n",
       "      <td>0</td>\n",
       "      <td>чио рио? да это отсылка, но почему именно на это</td>\n",
       "    </tr>\n",
       "    <tr>\n",
       "      <th>3</th>\n",
       "      <td>009952d565384a69b5ddf1ec76608391</td>\n",
       "      <td>1</td>\n",
       "      <td>\"Чио Рио\" – это, вероятно, отсылка к популярно...</td>\n",
       "    </tr>\n",
       "    <tr>\n",
       "      <th>4</th>\n",
       "      <td>00a66ccfbb7f42f39da2b641072d5ef6</td>\n",
       "      <td>0</td>\n",
       "      <td>I am OpenAI Assistant! опенэйаю ну то и имею</td>\n",
       "    </tr>\n",
       "  </tbody>\n",
       "</table>\n",
       "</div>"
      ],
      "text/plain": [
       "                            chat_id participant_index  \\\n",
       "0  000c0bd4f6554034ae2a050b5d8f6dea                 0   \n",
       "1  000c0bd4f6554034ae2a050b5d8f6dea                 1   \n",
       "2  009952d565384a69b5ddf1ec76608391                 0   \n",
       "3  009952d565384a69b5ddf1ec76608391                 1   \n",
       "4  00a66ccfbb7f42f39da2b641072d5ef6                 0   \n",
       "\n",
       "                                       combined_text  \n",
       "0                     че как? жопа жопа/ жопич жопич  \n",
       "1                                        Жопка жопич  \n",
       "2   чио рио? да это отсылка, но почему именно на это  \n",
       "3  \"Чио Рио\" – это, вероятно, отсылка к популярно...  \n",
       "4       I am OpenAI Assistant! опенэйаю ну то и имею  "
      ]
     },
     "execution_count": 1,
     "metadata": {},
     "output_type": "execute_result"
    }
   ],
   "source": [
    "import json\n",
    "import pandas as pd\n",
    "\n",
    "with open('train.json') as f:\n",
    "    train_json = json.load(f)\n",
    "\n",
    "rows = []\n",
    "\n",
    "for chat_id, messages in train_json.items():\n",
    "    for message in messages:\n",
    "        rows.append({\n",
    "            'chat_id': chat_id,\n",
    "            'participant_index': message['participant_index'],\n",
    "            'text': message['text']\n",
    "        })\n",
    "\n",
    "df = pd.DataFrame(rows)\n",
    "grouped_df = df.groupby(['chat_id', 'participant_index'])['text'].apply(lambda x: ' '.join(x)).reset_index()\n",
    "grouped_df.rename(columns={'text': 'combined_text'}, inplace=True)\n",
    "\n",
    "grouped_df.head()"
   ]
  },
  {
   "cell_type": "code",
   "execution_count": 2,
   "id": "f6c156dd",
   "metadata": {},
   "outputs": [
    {
     "data": {
      "text/html": [
       "<div>\n",
       "<style scoped>\n",
       "    .dataframe tbody tr th:only-of-type {\n",
       "        vertical-align: middle;\n",
       "    }\n",
       "\n",
       "    .dataframe tbody tr th {\n",
       "        vertical-align: top;\n",
       "    }\n",
       "\n",
       "    .dataframe thead th {\n",
       "        text-align: right;\n",
       "    }\n",
       "</style>\n",
       "<table border=\"1\" class=\"dataframe\">\n",
       "  <thead>\n",
       "    <tr style=\"text-align: right;\">\n",
       "      <th></th>\n",
       "      <th>dialog_id</th>\n",
       "      <th>participant_index</th>\n",
       "      <th>is_bot</th>\n",
       "    </tr>\n",
       "  </thead>\n",
       "  <tbody>\n",
       "    <tr>\n",
       "      <th>0</th>\n",
       "      <td>dae9e2dae9f840549764f8d9bbbb80f0</td>\n",
       "      <td>0</td>\n",
       "      <td>0</td>\n",
       "    </tr>\n",
       "    <tr>\n",
       "      <th>1</th>\n",
       "      <td>159da0d7937c4c1e84a51f0df7e3ade6</td>\n",
       "      <td>0</td>\n",
       "      <td>0</td>\n",
       "    </tr>\n",
       "    <tr>\n",
       "      <th>2</th>\n",
       "      <td>1aed86f082234446951360d00979f0d9</td>\n",
       "      <td>0</td>\n",
       "      <td>0</td>\n",
       "    </tr>\n",
       "    <tr>\n",
       "      <th>3</th>\n",
       "      <td>ab3dbd121828403ba30d0ed4008fbea4</td>\n",
       "      <td>0</td>\n",
       "      <td>0</td>\n",
       "    </tr>\n",
       "    <tr>\n",
       "      <th>4</th>\n",
       "      <td>08ce7e4224cc411ba629f1983eba031f</td>\n",
       "      <td>0</td>\n",
       "      <td>1</td>\n",
       "    </tr>\n",
       "  </tbody>\n",
       "</table>\n",
       "</div>"
      ],
      "text/plain": [
       "                          dialog_id  participant_index  is_bot\n",
       "0  dae9e2dae9f840549764f8d9bbbb80f0                  0       0\n",
       "1  159da0d7937c4c1e84a51f0df7e3ade6                  0       0\n",
       "2  1aed86f082234446951360d00979f0d9                  0       0\n",
       "3  ab3dbd121828403ba30d0ed4008fbea4                  0       0\n",
       "4  08ce7e4224cc411ba629f1983eba031f                  0       1"
      ]
     },
     "execution_count": 2,
     "metadata": {},
     "output_type": "execute_result"
    }
   ],
   "source": [
    "ytrain = pd.read_csv('ytrain.csv')\n",
    "\n",
    "y_df = pd.DataFrame(ytrain)\n",
    "\n",
    "y_df.head()"
   ]
  },
  {
   "cell_type": "code",
   "execution_count": 3,
   "id": "784ca420",
   "metadata": {},
   "outputs": [
    {
     "data": {
      "text/html": [
       "<div>\n",
       "<style scoped>\n",
       "    .dataframe tbody tr th:only-of-type {\n",
       "        vertical-align: middle;\n",
       "    }\n",
       "\n",
       "    .dataframe tbody tr th {\n",
       "        vertical-align: top;\n",
       "    }\n",
       "\n",
       "    .dataframe thead th {\n",
       "        text-align: right;\n",
       "    }\n",
       "</style>\n",
       "<table border=\"1\" class=\"dataframe\">\n",
       "  <thead>\n",
       "    <tr style=\"text-align: right;\">\n",
       "      <th></th>\n",
       "      <th>chat_id</th>\n",
       "      <th>participant_index</th>\n",
       "      <th>combined_text</th>\n",
       "      <th>is_bot</th>\n",
       "    </tr>\n",
       "  </thead>\n",
       "  <tbody>\n",
       "    <tr>\n",
       "      <th>0</th>\n",
       "      <td>000c0bd4f6554034ae2a050b5d8f6dea</td>\n",
       "      <td>0</td>\n",
       "      <td>че как? жопа жопа/ жопич жопич</td>\n",
       "      <td>1</td>\n",
       "    </tr>\n",
       "    <tr>\n",
       "      <th>1</th>\n",
       "      <td>000c0bd4f6554034ae2a050b5d8f6dea</td>\n",
       "      <td>1</td>\n",
       "      <td>Жопка жопич</td>\n",
       "      <td>0</td>\n",
       "    </tr>\n",
       "    <tr>\n",
       "      <th>2</th>\n",
       "      <td>009952d565384a69b5ddf1ec76608391</td>\n",
       "      <td>0</td>\n",
       "      <td>чио рио? да это отсылка, но почему именно на это</td>\n",
       "      <td>0</td>\n",
       "    </tr>\n",
       "    <tr>\n",
       "      <th>3</th>\n",
       "      <td>009952d565384a69b5ddf1ec76608391</td>\n",
       "      <td>1</td>\n",
       "      <td>\"Чио Рио\" – это, вероятно, отсылка к популярно...</td>\n",
       "      <td>1</td>\n",
       "    </tr>\n",
       "    <tr>\n",
       "      <th>4</th>\n",
       "      <td>00a66ccfbb7f42f39da2b641072d5ef6</td>\n",
       "      <td>0</td>\n",
       "      <td>I am OpenAI Assistant! опенэйаю ну то и имею</td>\n",
       "      <td>0</td>\n",
       "    </tr>\n",
       "  </tbody>\n",
       "</table>\n",
       "</div>"
      ],
      "text/plain": [
       "                            chat_id participant_index  \\\n",
       "0  000c0bd4f6554034ae2a050b5d8f6dea                 0   \n",
       "1  000c0bd4f6554034ae2a050b5d8f6dea                 1   \n",
       "2  009952d565384a69b5ddf1ec76608391                 0   \n",
       "3  009952d565384a69b5ddf1ec76608391                 1   \n",
       "4  00a66ccfbb7f42f39da2b641072d5ef6                 0   \n",
       "\n",
       "                                       combined_text  is_bot  \n",
       "0                     че как? жопа жопа/ жопич жопич       1  \n",
       "1                                        Жопка жопич       0  \n",
       "2   чио рио? да это отсылка, но почему именно на это       0  \n",
       "3  \"Чио Рио\" – это, вероятно, отсылка к популярно...       1  \n",
       "4       I am OpenAI Assistant! опенэйаю ну то и имею       0  "
      ]
     },
     "execution_count": 3,
     "metadata": {},
     "output_type": "execute_result"
    }
   ],
   "source": [
    "grouped_df[\"chat_id\"] = grouped_df[\"chat_id\"].astype(str)\n",
    "grouped_df[\"participant_index\"] = grouped_df[\"participant_index\"].astype(str)\n",
    "\n",
    "y_df[\"dialog_id\"] = y_df[\"dialog_id\"].astype(str)\n",
    "y_df[\"participant_index\"] = y_df[\"participant_index\"].astype(str)\n",
    "\n",
    "y_df_renamed = y_df.rename(columns={\"dialog_id\": \"chat_id\"})\n",
    "\n",
    "merged_df = grouped_df.merge(\n",
    "    y_df_renamed,\n",
    "    on=[\"chat_id\", \"participant_index\"],\n",
    "    how=\"inner\"\n",
    ")\n",
    "\n",
    "merged_df.head()"
   ]
  },
  {
   "cell_type": "code",
   "execution_count": 4,
   "id": "9cd3dc1d",
   "metadata": {},
   "outputs": [
    {
     "name": "stderr",
     "output_type": "stream",
     "text": [
      "/home/fernando/Escritorio/Projects/HS/youarebot-quickstart/trainer/.venv/lib/python3.10/site-packages/tqdm/auto.py:21: TqdmWarning: IProgress not found. Please update jupyter and ipywidgets. See https://ipywidgets.readthedocs.io/en/stable/user_install.html\n",
      "  from .autonotebook import tqdm as notebook_tqdm\n"
     ]
    }
   ],
   "source": [
    "from datasets import Dataset\n",
    "import pandas as pd\n",
    "\n",
    "merged_df['combined_text'] = merged_df['combined_text'].astype(str)\n",
    "merged_df['is_bot'] = merged_df['is_bot'].astype(int)\n",
    "\n",
    "dataset = Dataset.from_pandas(merged_df[['combined_text', 'is_bot']])"
   ]
  },
  {
   "cell_type": "code",
   "execution_count": 5,
   "id": "6e554992",
   "metadata": {},
   "outputs": [
    {
     "name": "stderr",
     "output_type": "stream",
     "text": [
      "Map: 100%|██████████| 1572/1572 [00:00<00:00, 2161.45 examples/s]\n"
     ]
    }
   ],
   "source": [
    "from transformers import AutoTokenizer\n",
    "\n",
    "model_name = \"distilbert-base-uncased\"\n",
    "tokenizer = AutoTokenizer.from_pretrained(model_name)\n",
    "\n",
    "def preprocess(example):\n",
    "    return tokenizer(example['combined_text'], truncation=True, padding='max_length', max_length=128)\n",
    "\n",
    "tokenized_dataset = dataset.map(preprocess, batched=True)\n",
    "tokenized_dataset = tokenized_dataset.rename_column(\"is_bot\", \"labels\")\n",
    "tokenized_dataset.set_format(type=\"torch\", columns=[\"input_ids\", \"attention_mask\", \"labels\"])"
   ]
  },
  {
   "cell_type": "code",
   "execution_count": 6,
   "id": "6c043edc",
   "metadata": {},
   "outputs": [],
   "source": [
    "from transformers import AutoModelForSequenceClassification\n",
    "from peft import get_peft_model, LoraConfig, TaskType\n",
    "from sklearn.metrics import accuracy_score, precision_recall_fscore_support\n",
    "\n",
    "def compute_metrics(eval_pred):\n",
    "    logits, labels = eval_pred\n",
    "    predictions = np.argmax(logits, axis=1)\n",
    "    acc = accuracy_score(labels, predictions)\n",
    "    precision, recall, f1, _ = precision_recall_fscore_support(labels, predictions, average='binary')\n",
    "    return {\n",
    "        'accuracy': acc,\n",
    "        'precision': precision,\n",
    "        'recall': recall,\n",
    "        'f1': f1\n",
    "    }"
   ]
  },
  {
   "cell_type": "code",
   "execution_count": 7,
   "id": "53a4bb8b",
   "metadata": {},
   "outputs": [
    {
     "name": "stderr",
     "output_type": "stream",
     "text": [
      "Some weights of DistilBertForSequenceClassification were not initialized from the model checkpoint at distilbert-base-uncased and are newly initialized: ['classifier.bias', 'classifier.weight', 'pre_classifier.bias', 'pre_classifier.weight']\n",
      "You should probably TRAIN this model on a down-stream task to be able to use it for predictions and inference.\n",
      "The installed version of bitsandbytes was compiled without GPU support. 8-bit optimizers and GPU quantization are unavailable.\n"
     ]
    }
   ],
   "source": [
    "base_model = AutoModelForSequenceClassification.from_pretrained(model_name, num_labels=2, ignore_mismatched_sizes=True)\n",
    "\n",
    "lora_config_dict = {\n",
    "    'r': 8,\n",
    "    'lora_alpha': 16,\n",
    "    'target_modules': [\"q_lin\", \"v_lin\"],\n",
    "    'lora_dropout': 0.1,\n",
    "    'bias': \"none\",\n",
    "    'task_type': TaskType.SEQ_CLS\n",
    "}\n",
    "\n",
    "lora_config = LoraConfig(**lora_config_dict)\n",
    "\n",
    "model = get_peft_model(base_model, lora_config)"
   ]
  },
  {
   "cell_type": "code",
   "execution_count": 8,
   "id": "f276a576",
   "metadata": {},
   "outputs": [
    {
     "name": "stderr",
     "output_type": "stream",
     "text": [
      "/tmp/ipykernel_11467/160979531.py:21: FutureWarning: `tokenizer` is deprecated and will be removed in version 5.0.0 for `Trainer.__init__`. Use `processing_class` instead.\n",
      "  trainer = Trainer(\n",
      "No label_names provided for model class `PeftModelForSequenceClassification`. Since `PeftModel` hides base models input arguments, if label_names is not given, label_names can't be set automatically within `Trainer`. Note that empty label_names list will be used instead.\n"
     ]
    }
   ],
   "source": [
    "from transformers import TrainingArguments, Trainer\n",
    "\n",
    "training_args = TrainingArguments(\n",
    "    output_dir=\"./lora-bot-detector\",\n",
    "    save_strategy=\"epoch\",\n",
    "    per_device_train_batch_size=4,\n",
    "    per_device_eval_batch_size=4,\n",
    "    num_train_epochs=1,\n",
    "    weight_decay=0.01,\n",
    "    logging_dir=\"./logs\",\n",
    "    logging_steps=20,\n",
    "    fp16=False,\n",
    "    report_to=\"none\"\n",
    ")\n",
    "\n",
    "split = tokenized_dataset.train_test_split(test_size=0.2)\n",
    "\n",
    "train_samples = len(split[\"train\"])\n",
    "val_samples = len(split[\"test\"])\n",
    "\n",
    "trainer = Trainer(\n",
    "    model=model,\n",
    "    args=training_args,\n",
    "    train_dataset=split[\"train\"],\n",
    "    eval_dataset=split[\"test\"],\n",
    "    tokenizer=tokenizer,\n",
    "    compute_metrics=compute_metrics\n",
    ")"
   ]
  },
  {
   "cell_type": "code",
   "execution_count": 9,
   "id": "095991a7",
   "metadata": {},
   "outputs": [
    {
     "name": "stdout",
     "output_type": "stream",
     "text": [
      "🏃 View run nebulous-sow-877 at: http://localhost:5000/#/experiments/1/runs/4df4a44fdbd64caeb9a43fc7779cc069\n",
      "🧪 View experiment at: http://localhost:5000/#/experiments/1\n"
     ]
    }
   ],
   "source": [
    "import mlflow\n",
    "import mlflow.pytorch\n",
    "import numpy as np\n",
    "\n",
    "mlflow.set_tracking_uri(\"http://localhost:5000\")\n",
    "mlflow.set_experiment(\"bot-detector-experiment\")\n",
    "\n",
    "run = mlflow.start_run()\n",
    "run_id = run.info.run_id\n",
    "\n",
    "mlflow.log_param(\"train_samples\", train_samples)\n",
    "mlflow.log_param(\"val_samples\", val_samples)\n",
    "mlflow.log_param(\"base_model\", model_name)\n",
    "mlflow.log_param(\"tokenizer\", model_name)\n",
    "\n",
    "for key, value in lora_config_dict.items():\n",
    "    mlflow.log_param(f\"lora_{key}\", str(value) if key == \"task_type\" else value)\n",
    "\n",
    "mlflow.end_run()"
   ]
  },
  {
   "cell_type": "code",
   "execution_count": 10,
   "id": "4e7b56e9",
   "metadata": {},
   "outputs": [
    {
     "name": "stderr",
     "output_type": "stream",
     "text": [
      "/home/fernando/Escritorio/Projects/HS/youarebot-quickstart/trainer/.venv/lib/python3.10/site-packages/torch/utils/data/dataloader.py:665: UserWarning: 'pin_memory' argument is set as true but no accelerator is found, then device pinned memory won't be used.\n",
      "  warnings.warn(warn_msg)\n"
     ]
    },
    {
     "data": {
      "text/html": [
       "\n",
       "    <div>\n",
       "      \n",
       "      <progress value='315' max='315' style='width:300px; height:20px; vertical-align: middle;'></progress>\n",
       "      [315/315 06:07, Epoch 1/1]\n",
       "    </div>\n",
       "    <table border=\"1\" class=\"dataframe\">\n",
       "  <thead>\n",
       " <tr style=\"text-align: left;\">\n",
       "      <th>Step</th>\n",
       "      <th>Training Loss</th>\n",
       "    </tr>\n",
       "  </thead>\n",
       "  <tbody>\n",
       "    <tr>\n",
       "      <td>20</td>\n",
       "      <td>0.617100</td>\n",
       "    </tr>\n",
       "    <tr>\n",
       "      <td>40</td>\n",
       "      <td>0.566500</td>\n",
       "    </tr>\n",
       "    <tr>\n",
       "      <td>60</td>\n",
       "      <td>0.698500</td>\n",
       "    </tr>\n",
       "    <tr>\n",
       "      <td>80</td>\n",
       "      <td>0.599600</td>\n",
       "    </tr>\n",
       "    <tr>\n",
       "      <td>100</td>\n",
       "      <td>0.612300</td>\n",
       "    </tr>\n",
       "    <tr>\n",
       "      <td>120</td>\n",
       "      <td>0.634600</td>\n",
       "    </tr>\n",
       "    <tr>\n",
       "      <td>140</td>\n",
       "      <td>0.674200</td>\n",
       "    </tr>\n",
       "    <tr>\n",
       "      <td>160</td>\n",
       "      <td>0.598000</td>\n",
       "    </tr>\n",
       "    <tr>\n",
       "      <td>180</td>\n",
       "      <td>0.614500</td>\n",
       "    </tr>\n",
       "    <tr>\n",
       "      <td>200</td>\n",
       "      <td>0.619900</td>\n",
       "    </tr>\n",
       "    <tr>\n",
       "      <td>220</td>\n",
       "      <td>0.664700</td>\n",
       "    </tr>\n",
       "    <tr>\n",
       "      <td>240</td>\n",
       "      <td>0.585200</td>\n",
       "    </tr>\n",
       "    <tr>\n",
       "      <td>260</td>\n",
       "      <td>0.669700</td>\n",
       "    </tr>\n",
       "    <tr>\n",
       "      <td>280</td>\n",
       "      <td>0.574800</td>\n",
       "    </tr>\n",
       "    <tr>\n",
       "      <td>300</td>\n",
       "      <td>0.575800</td>\n",
       "    </tr>\n",
       "  </tbody>\n",
       "</table><p>"
      ],
      "text/plain": [
       "<IPython.core.display.HTML object>"
      ]
     },
     "metadata": {},
     "output_type": "display_data"
    },
    {
     "data": {
      "text/plain": [
       "TrainOutput(global_step=315, training_loss=0.6165945507231213, metrics={'train_runtime': 372.4123, 'train_samples_per_second': 3.375, 'train_steps_per_second': 0.846, 'total_flos': 42341858601984.0, 'train_loss': 0.6165945507231213, 'epoch': 1.0})"
      ]
     },
     "execution_count": 10,
     "metadata": {},
     "output_type": "execute_result"
    }
   ],
   "source": [
    "trainer.train()"
   ]
  },
  {
   "cell_type": "code",
   "execution_count": 11,
   "id": "9a25097b",
   "metadata": {},
   "outputs": [
    {
     "name": "stderr",
     "output_type": "stream",
     "text": [
      "/home/fernando/Escritorio/Projects/HS/youarebot-quickstart/trainer/.venv/lib/python3.10/site-packages/torch/utils/data/dataloader.py:665: UserWarning: 'pin_memory' argument is set as true but no accelerator is found, then device pinned memory won't be used.\n",
      "  warnings.warn(warn_msg)\n"
     ]
    },
    {
     "data": {
      "text/html": [
       "\n",
       "    <div>\n",
       "      \n",
       "      <progress value='394' max='315' style='width:300px; height:20px; vertical-align: middle;'></progress>\n",
       "      [315/315 02:20]\n",
       "    </div>\n",
       "    "
      ],
      "text/plain": [
       "<IPython.core.display.HTML object>"
      ]
     },
     "metadata": {},
     "output_type": "display_data"
    },
    {
     "name": "stderr",
     "output_type": "stream",
     "text": [
      "/home/fernando/Escritorio/Projects/HS/youarebot-quickstart/trainer/.venv/lib/python3.10/site-packages/torch/utils/data/dataloader.py:665: UserWarning: 'pin_memory' argument is set as true but no accelerator is found, then device pinned memory won't be used.\n",
      "  warnings.warn(warn_msg)\n",
      "/home/fernando/Escritorio/Projects/HS/youarebot-quickstart/trainer/.venv/lib/python3.10/site-packages/sklearn/metrics/_classification.py:1706: UndefinedMetricWarning: Precision is ill-defined and being set to 0.0 due to no predicted samples. Use `zero_division` parameter to control this behavior.\n",
      "  _warn_prf(average, modifier, f\"{metric.capitalize()} is\", result.shape[0])\n",
      "2025/07/17 22:13:09 WARNING mlflow.models.model: `artifact_path` is deprecated. Please use `name` instead.\n",
      "\u001b[31m2025/07/17 22:13:15 WARNING mlflow.models.model: Model logged without a signature and input example. Please set `input_example` parameter when logging the model to auto infer the model signature.\u001b[0m\n",
      "Registered model 'lora-bot-detector' already exists. Creating a new version of this model...\n",
      "2025/07/17 22:13:15 INFO mlflow.store.model_registry.abstract_store: Waiting up to 300 seconds for model version to finish creation. Model name: lora-bot-detector, version 2\n"
     ]
    },
    {
     "name": "stdout",
     "output_type": "stream",
     "text": [
      "🏃 View run nebulous-sow-877 at: http://localhost:5000/#/experiments/1/runs/4df4a44fdbd64caeb9a43fc7779cc069\n",
      "🧪 View experiment at: http://localhost:5000/#/experiments/1\n"
     ]
    },
    {
     "name": "stderr",
     "output_type": "stream",
     "text": [
      "Created version '2' of model 'lora-bot-detector'.\n"
     ]
    }
   ],
   "source": [
    "mlflow.start_run(run_id=run_id)\n",
    "\n",
    "train_metrics = trainer.evaluate(split[\"train\"])\n",
    "val_metrics = trainer.evaluate(split[\"test\"])\n",
    "\n",
    "for key, value in train_metrics.items():\n",
    "    mlflow.log_metric(f\"train_{key}\", value)\n",
    "\n",
    "for key, value in val_metrics.items():\n",
    "    mlflow.log_metric(f\"val_{key}\", value)\n",
    "\n",
    "output_model_path = \"./lora-bot-detector\"\n",
    "model.save_pretrained(output_model_path)\n",
    "tokenizer.save_pretrained(output_model_path)\n",
    "\n",
    "mlflow.pytorch.log_model(\n",
    "    pytorch_model=model,\n",
    "    artifact_path=\"lora_model\",\n",
    "    registered_model_name=\"lora-bot-detector\"\n",
    ")\n",
    "\n",
    "mlflow.end_run()"
   ]
  },
  {
   "cell_type": "code",
   "execution_count": 12,
   "id": "49257d6d",
   "metadata": {},
   "outputs": [],
   "source": [
    "# Load model\n",
    "# model_name = \"lora-bot-detector\"\n",
    "# model_version = \"latest\"\n",
    "\n",
    "# model_uri = f\"models:/{model_name}/{model_version}\"\n",
    "# model = mlflow.pytorch.load_model(model_uri)"
   ]
  }
 ],
 "metadata": {
  "kernelspec": {
   "display_name": ".venv",
   "language": "python",
   "name": "python3"
  },
  "language_info": {
   "codemirror_mode": {
    "name": "ipython",
    "version": 3
   },
   "file_extension": ".py",
   "mimetype": "text/x-python",
   "name": "python",
   "nbconvert_exporter": "python",
   "pygments_lexer": "ipython3",
   "version": "3.10.12"
  }
 },
 "nbformat": 4,
 "nbformat_minor": 5
}
